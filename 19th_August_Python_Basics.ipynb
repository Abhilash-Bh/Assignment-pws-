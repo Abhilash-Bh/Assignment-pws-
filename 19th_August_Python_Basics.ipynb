{
 "cells": [
  {
   "cell_type": "markdown",
   "id": "f613a677-7dcc-43e4-b748-57576f3a1ac0",
   "metadata": {},
   "source": [
    "Python Basics Variable\n",
    "1. Declare two variables, `x` and `y`, and assign them integer values. Swap the values of these variables without using any temporary variable."
   ]
  },
  {
   "cell_type": "code",
   "execution_count": 1,
   "id": "cb99a35e-f18d-45da-b424-f1888bd3e6c5",
   "metadata": {},
   "outputs": [
    {
     "name": "stdout",
     "output_type": "stream",
     "text": [
      "Before swapping: \n",
      "Value of x :  5  and y :  7\n",
      "After swapping: \n",
      "Value of x :  7  and y :  5\n"
     ]
    }
   ],
   "source": [
    "#Value Swaping without using third variable\n",
    "x = 5\n",
    "y = 7\n",
    "\n",
    "print (\"Before swapping: \")\n",
    "print(\"Value of x : \", x, \" and y : \", y)\n",
    "\n",
    "x,y = y,x\n",
    "\n",
    "print (\"After swapping: \")\n",
    "print(\"Value of x : \", x, \" and y : \", y)"
   ]
  },
  {
   "cell_type": "markdown",
   "id": "f16b520b-25f9-4691-96b4-5fdfc98da10c",
   "metadata": {},
   "source": [
    "2. Create a program that calculates the area of a rectangle. Take the length and width as inputs from the user and store them in variables. Calculate and display the area."
   ]
  },
  {
   "cell_type": "code",
   "execution_count": null,
   "id": "333c588f-e414-4bbc-ad47-bd1026e1798e",
   "metadata": {},
   "outputs": [],
   "source": [
    "#Area of Tringle\n",
    "#Taking input hight as h and base as b\n",
    "print(\"Give the Hight of the triangle\")\n",
    "h=int(input())\n",
    "print(\"Give the Base of the triangle\")\n",
    "b=int(input())\n",
    "#formula of the area of tringle\n",
    "aot=(h*b)/2\n",
    "#output\n",
    "print(\"Area of triangle is :\", aot)"
   ]
  },
  {
   "cell_type": "markdown",
   "id": "0bcba30a-4a49-4fa0-b9aa-90edf980b6ab",
   "metadata": {},
   "source": [
    "3. Write a Python program that converts temperatures from Celsius to Fahrenheit. Take the temperature in Celsius as input, store it in a variable, convert it to Fahrenheit, and display the result."
   ]
  },
  {
   "cell_type": "code",
   "execution_count": null,
   "id": "3499d2f1-db9e-4730-9d26-1609c1d80bf4",
   "metadata": {},
   "outputs": [],
   "source": [
    "#Celsius to Farenhite convarter\n",
    "print(\"Give the temperture as Celsius\")\n",
    "Celsius=int(input())\n",
    "#formula of the celsius to farenhite contvarter\n",
    "Farenhite=  ( Celsius  * 9/5) + 32\n",
    "print(\"Output is:\")\n",
    "print(Farenhite,\"*F\")"
   ]
  },
  {
   "cell_type": "markdown",
   "id": "8d03dbe6-0907-4a80-a480-3068660643ea",
   "metadata": {},
   "source": [
    "String Based Questions\n",
    "1. Write a Python program that takes a string as input and prints the length of the string."
   ]
  },
  {
   "cell_type": "code",
   "execution_count": 9,
   "id": "bf809315-cb68-4a24-bf75-dfd4edfd9f64",
   "metadata": {},
   "outputs": [
    {
     "name": "stdout",
     "output_type": "stream",
     "text": [
      "Give any string\n"
     ]
    },
    {
     "name": "stdin",
     "output_type": "stream",
     "text": [
      " hjk\n"
     ]
    },
    {
     "name": "stdout",
     "output_type": "stream",
     "text": [
      "3\n"
     ]
    }
   ],
   "source": [
    "#Take a string as a input and print the length of the string\n",
    "print(\"Give any string\")\n",
    "#len using len() function get length of the string\n",
    "Str1=str(len(input()))\n",
    "print(Str1)"
   ]
  },
  {
   "cell_type": "markdown",
   "id": "2e24b5cc-c48d-4ff1-bc53-4dec492f409d",
   "metadata": {},
   "source": [
    "2. Create a program that takes a sentence from the user and counts the number of vowels (a, e, i, o, u) in the string."
   ]
  },
  {
   "cell_type": "code",
   "execution_count": 2,
   "id": "a0899f82-7357-4756-8c4d-e84ab667d969",
   "metadata": {},
   "outputs": [
    {
     "name": "stdout",
     "output_type": "stream",
     "text": [
      "Give the sentence\n"
     ]
    },
    {
     "name": "stdin",
     "output_type": "stream",
     "text": [
      " fg\n"
     ]
    },
    {
     "name": "stdout",
     "output_type": "stream",
     "text": [
      "Number of vowels in string  0\n",
      "Number of conconent in string  2\n"
     ]
    }
   ],
   "source": [
    "#count vowels and conconent in a sentence\n",
    "print(\"Give the sentence\")\n",
    "Str1=str(input())\n",
    "Str1=Str1.lower()\n",
    "#declearing vowels\n",
    "vowels=\"aeiou\"\n",
    "#take 2 empty variable for count the number or vowels and conconent\n",
    "vowelscount=0\n",
    "concount=0\n",
    "\n",
    "for i in Str1:\n",
    "  if i in vowels:\n",
    "    vowelscount+=1\n",
    "  else:\n",
    "    concount+=1\n",
    "print(\"Number of vowels in string \",vowelscount)\n",
    "print(\"Number of conconent in string \",concount)"
   ]
  },
  {
   "cell_type": "markdown",
   "id": "be83f71c-c34a-48ec-9a1a-d36010f4a82a",
   "metadata": {},
   "source": [
    "3. Given a string, reverse the order of characters using string slicing and print the reversed string."
   ]
  },
  {
   "cell_type": "code",
   "execution_count": 7,
   "id": "3b5d6abf-af9a-4e1c-bc46-c1d51a831b6c",
   "metadata": {},
   "outputs": [
    {
     "name": "stdout",
     "output_type": "stream",
     "text": [
      "Give the string\n"
     ]
    },
    {
     "name": "stdin",
     "output_type": "stream",
     "text": [
      " dfghjkl\n"
     ]
    },
    {
     "name": "stdout",
     "output_type": "stream",
     "text": [
      "Reverse string is:\n",
      " lkjhgfd\n"
     ]
    }
   ],
   "source": [
    "#reverse a string\n",
    "print(\"Give the string\")\n",
    "Str1=str(input())\n",
    "#using slicing reverse teh string\n",
    "reverse=Str1[::-1]\n",
    "print(\"Reverse string is:\")\n",
    "print(\"\",reverse)"
   ]
  },
  {
   "cell_type": "markdown",
   "id": "97bfc399-2d90-4bf4-b3fe-8c5720509f4f",
   "metadata": {},
   "source": [
    "4. Write a program that takes a string as input and checks if it is a palindrome (reads the same forwards and backwards)."
   ]
  },
  {
   "cell_type": "code",
   "execution_count": null,
   "id": "facdf7ae-2b4e-47ac-a906-ecf70f8d5fb6",
   "metadata": {},
   "outputs": [],
   "source": [
    "#chek string is palindrome or not\n",
    "print(\"Give the string\")\n",
    "Str1=str(input())\n",
    "reverse=Str1[::-1]\n",
    "print(reverse)\n",
    "#check input and output are same or not\n",
    "if(Str1==reverse):\n",
    "  print(\"string is palindrome\")\n",
    "else:\n",
    "  print(\"string is not palindrome\")"
   ]
  },
  {
   "cell_type": "markdown",
   "id": "2162d722-b40c-4999-aabe-e6c7d5c7d357",
   "metadata": {},
   "source": [
    "5. Create a program that takes a string as input and removes all the spaces from it. Print the modified string without spaces."
   ]
  },
  {
   "cell_type": "code",
   "execution_count": 8,
   "id": "acce4561-659e-43b7-a217-8ceba65ed25e",
   "metadata": {},
   "outputs": [
    {
     "name": "stdout",
     "output_type": "stream",
     "text": [
      "Give the string\n"
     ]
    },
    {
     "name": "stdin",
     "output_type": "stream",
     "text": [
      " fghj kjhg\n"
     ]
    },
    {
     "name": "stdout",
     "output_type": "stream",
     "text": [
      "After removing spaces:\n",
      " fghjkjhg\n"
     ]
    }
   ],
   "source": [
    "#remove spaces from the string\n",
    "print(\"Give the string\")\n",
    "Str1=str(input())\n",
    "#space remove by replace function\n",
    "Str2=Str1.replace(\" \", \"\")\n",
    "print(\"After removing spaces:\")\n",
    "print(\"\",Str2)"
   ]
  }
 ],
 "metadata": {
  "kernelspec": {
   "display_name": "Python 3 (ipykernel)",
   "language": "python",
   "name": "python3"
  },
  "language_info": {
   "codemirror_mode": {
    "name": "ipython",
    "version": 3
   },
   "file_extension": ".py",
   "mimetype": "text/x-python",
   "name": "python",
   "nbconvert_exporter": "python",
   "pygments_lexer": "ipython3",
   "version": "3.10.8"
  },
  "toc-autonumbering": true,
  "toc-showcode": true,
  "widgets": {
   "application/vnd.jupyter.widget-state+json": {
    "state": {},
    "version_major": 2,
    "version_minor": 0
   }
  }
 },
 "nbformat": 4,
 "nbformat_minor": 5
}
